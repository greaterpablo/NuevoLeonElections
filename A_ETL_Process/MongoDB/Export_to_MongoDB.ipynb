{
 "cells": [
  {
   "cell_type": "markdown",
   "id": "e9cbbd4b",
   "metadata": {},
   "source": [
    "## Export to MongoDB"
   ]
  },
  {
   "cell_type": "code",
   "execution_count": 1,
   "id": "44bd5c6e",
   "metadata": {},
   "outputs": [],
   "source": [
    "## Dependencies\n",
    "import pymongo\n",
    "import json"
   ]
  },
  {
   "cell_type": "code",
   "execution_count": 2,
   "id": "f93358ce",
   "metadata": {},
   "outputs": [],
   "source": [
    "## Setup database connection (MongoDB)\n",
    "conn = 'mongodb://localhost:27017'\n",
    "client = pymongo.MongoClient(conn)\n",
    "\n",
    "## Drop existing database\n",
    "client.drop_database('Elections_DB')\n",
    "\n",
    "## Set database variable\n",
    "db = client.Elections_DB"
   ]
  },
  {
   "cell_type": "markdown",
   "id": "b8c25591",
   "metadata": {},
   "source": [
    "### Mapa Nuevo León (GeoJSON)"
   ]
  },
  {
   "cell_type": "code",
   "execution_count": 3,
   "id": "6b1f98fb",
   "metadata": {},
   "outputs": [
    {
     "data": {
      "text/plain": [
       "<pymongo.results.InsertOneResult at 0x1e5259d2300>"
      ]
     },
     "execution_count": 3,
     "metadata": {},
     "output_type": "execute_result"
    }
   ],
   "source": [
    "with open(\"../../resources/maps/NYU-NL-geojson.json\") as file:\n",
    "  file_data = json.load(file)\n",
    "\n",
    "db.nl_geojson.insert_one(file_data)"
   ]
  },
  {
   "cell_type": "markdown",
   "id": "f00da40f",
   "metadata": {},
   "source": [
    "### Id Municipios"
   ]
  },
  {
   "cell_type": "code",
   "execution_count": 4,
   "id": "3662cc2a",
   "metadata": {},
   "outputs": [
    {
     "data": {
      "text/plain": [
       "<pymongo.results.InsertManyResult at 0x1e52543d800>"
      ]
     },
     "execution_count": 4,
     "metadata": {},
     "output_type": "execute_result"
    }
   ],
   "source": [
    "with open(\"../output/id_municipios.json\") as file:\n",
    "  file_data = json.load(file)\n",
    "\n",
    "db.id_municipios.insert_many(file_data)"
   ]
  },
  {
   "cell_type": "markdown",
   "id": "f8f4a607",
   "metadata": {},
   "source": [
    "### Resultadios Elecciones"
   ]
  },
  {
   "cell_type": "code",
   "execution_count": 5,
   "id": "bc613f06",
   "metadata": {},
   "outputs": [
    {
     "data": {
      "text/plain": [
       "<pymongo.results.InsertManyResult at 0x1e525433480>"
      ]
     },
     "execution_count": 5,
     "metadata": {},
     "output_type": "execute_result"
    }
   ],
   "source": [
    "with open(\"../output/resultados_a2015.json\") as file:\n",
    "  file_data = json.load(file)\n",
    "\n",
    "db.resultados_a2015.insert_many(file_data)"
   ]
  },
  {
   "cell_type": "code",
   "execution_count": 6,
   "id": "6b6d4d23",
   "metadata": {},
   "outputs": [
    {
     "data": {
      "text/plain": [
       "<pymongo.results.InsertManyResult at 0x1e526a52240>"
      ]
     },
     "execution_count": 6,
     "metadata": {},
     "output_type": "execute_result"
    }
   ],
   "source": [
    "with open(\"../output/resultados_a2018.json\") as file:\n",
    "  file_data = json.load(file)\n",
    "\n",
    "db.resultados_a2018.insert_many(file_data)  "
   ]
  },
  {
   "cell_type": "code",
   "execution_count": 7,
   "id": "4ae782b7",
   "metadata": {},
   "outputs": [
    {
     "data": {
      "text/plain": [
       "<pymongo.results.InsertManyResult at 0x1e5264a7c80>"
      ]
     },
     "execution_count": 7,
     "metadata": {},
     "output_type": "execute_result"
    }
   ],
   "source": [
    "with open(\"../output/resultados_a2021.json\") as file:\n",
    "  file_data = json.load(file)\n",
    "\n",
    "db.resultados_a2021.insert_many(file_data)  "
   ]
  },
  {
   "cell_type": "code",
   "execution_count": 8,
   "id": "83e430ac",
   "metadata": {},
   "outputs": [
    {
     "data": {
      "text/plain": [
       "<pymongo.results.InsertManyResult at 0x1e5265551c0>"
      ]
     },
     "execution_count": 8,
     "metadata": {},
     "output_type": "execute_result"
    }
   ],
   "source": [
    "with open(\"../output/resultados_g2015.json\") as file:\n",
    "  file_data = json.load(file)\n",
    "db.resultados_g2015.insert_many(file_data)"
   ]
  },
  {
   "cell_type": "code",
   "execution_count": 9,
   "id": "f792117c",
   "metadata": {},
   "outputs": [
    {
     "data": {
      "text/plain": [
       "<pymongo.results.InsertManyResult at 0x1e5236a3a80>"
      ]
     },
     "execution_count": 9,
     "metadata": {},
     "output_type": "execute_result"
    }
   ],
   "source": [
    "with open(\"../output/resultados_g2021.json\") as file:\n",
    "  file_data = json.load(file)\n",
    "\n",
    "db.resultados_g2021.insert_many(file_data)"
   ]
  },
  {
   "cell_type": "markdown",
   "id": "5952ab8b",
   "metadata": {},
   "source": [
    "### INEGI + Gini"
   ]
  },
  {
   "cell_type": "code",
   "execution_count": 10,
   "id": "7c077842",
   "metadata": {},
   "outputs": [],
   "source": [
    "# with open(\"../output/dataframe_api_1c.js\") as file:\n",
    "#   file_data = json.load(file)\n",
    "\n",
    "# db.dataframe_api_1c.insert_one(file_data)"
   ]
  },
  {
   "cell_type": "code",
   "execution_count": 11,
   "id": "776c8068",
   "metadata": {},
   "outputs": [],
   "source": [
    "# with open(\"../output/dataframe_api_1r.js\") as file:\n",
    "#   file_data = json.load(file)\n",
    "\n",
    "# db.dataframe_api_1r.insert_many(file_data)"
   ]
  },
  {
   "cell_type": "code",
   "execution_count": 12,
   "id": "6940123b",
   "metadata": {},
   "outputs": [],
   "source": [
    "# with open(\"../output/dataframe_api_2c.js\") as file:\n",
    "#   file_data = json.load(file)\n",
    "\n",
    "# db.dataframe_api_2c.insert_one(file_data)"
   ]
  },
  {
   "cell_type": "code",
   "execution_count": 13,
   "id": "e7a2b1a6",
   "metadata": {},
   "outputs": [],
   "source": [
    "# with open(\"../output/dataframe_api_2r.js\") as file:\n",
    "#   file_data = json.load(file)\n",
    "\n",
    "# db.dataframe_api_2r.insert_many(file_data)"
   ]
  },
  {
   "cell_type": "markdown",
   "id": "f3749940",
   "metadata": {},
   "source": [
    "### Merged"
   ]
  },
  {
   "cell_type": "code",
   "execution_count": 14,
   "id": "98d45788",
   "metadata": {},
   "outputs": [],
   "source": [
    "# with open(\"../output/dataframe_merged_apisc.js\") as file:\n",
    "#   file_data = json.load(file)\n",
    "\n",
    "# db.dataframe_merged_apisc.insert_one(file_data)"
   ]
  },
  {
   "cell_type": "code",
   "execution_count": 15,
   "id": "76547288",
   "metadata": {},
   "outputs": [
    {
     "data": {
      "text/plain": [
       "<pymongo.results.InsertManyResult at 0x1e525776180>"
      ]
     },
     "execution_count": 15,
     "metadata": {},
     "output_type": "execute_result"
    }
   ],
   "source": [
    "with open(\"../output/dataframe_merged_apisr.js\") as file:\n",
    "  file_data = json.load(file)\n",
    "\n",
    "db.dataframe_merged_apisr.insert_many(file_data)"
   ]
  },
  {
   "cell_type": "markdown",
   "id": "17f3610a",
   "metadata": {},
   "source": [
    "### Iter"
   ]
  },
  {
   "cell_type": "code",
   "execution_count": 16,
   "id": "32ef0c63",
   "metadata": {},
   "outputs": [],
   "source": [
    "# with open(\"../output/iter_1920c.js\") as file:\n",
    "#   file_data = json.load(file)\n",
    "\n",
    "# db.iter_1920c.insert_one(file_data)"
   ]
  },
  {
   "cell_type": "code",
   "execution_count": 17,
   "id": "2bb48a9a",
   "metadata": {},
   "outputs": [
    {
     "data": {
      "text/plain": [
       "<pymongo.results.InsertManyResult at 0x1e525550540>"
      ]
     },
     "execution_count": 17,
     "metadata": {},
     "output_type": "execute_result"
    }
   ],
   "source": [
    "with open(\"../output/iter_1920r.js\") as file:\n",
    "  file_data = json.load(file)\n",
    "\n",
    "db.iter_1920r.insert_many(file_data)"
   ]
  }
 ],
 "metadata": {
  "kernelspec": {
   "display_name": "Python 3",
   "language": "python",
   "name": "python3"
  },
  "language_info": {
   "codemirror_mode": {
    "name": "ipython",
    "version": 3
   },
   "file_extension": ".py",
   "mimetype": "text/x-python",
   "name": "python",
   "nbconvert_exporter": "python",
   "pygments_lexer": "ipython3",
   "version": "3.8.8"
  }
 },
 "nbformat": 4,
 "nbformat_minor": 5
}
